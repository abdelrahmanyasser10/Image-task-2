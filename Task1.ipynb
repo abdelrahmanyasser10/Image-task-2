{
 "cells": [
  {
   "cell_type": "code",
   "execution_count": 3,
   "id": "5fdc0e49",
   "metadata": {},
   "outputs": [
    {
     "name": "stderr",
     "output_type": "stream",
     "text": [
      "sh: 1: ffmpeg: not found\n"
     ]
    },
    {
     "data": {
      "text/plain": [
       "32512"
      ]
     },
     "execution_count": 3,
     "metadata": {},
     "output_type": "execute_result"
    }
   ],
   "source": [
    "from pytube import YouTube\n",
    "import os\n",
    "import cv2\n",
    "import numpy as np\n",
    "\n",
    "# Set the URL of the video you want to download\n",
    "url = \"https://www.youtube.com/watch?v=FixSndBpTyk&ab_channel=%D9%82%D9%86%D8%A7%D8%A9%D9%86%D8%B5%D8%B1%D8%A7%D9%84%D8%BA%D8%A7%D9%81%D8%B1%D9%8A\"\n",
    "\n",
    "# Create a new YouTube object\n",
    "yt = YouTube(url)\n",
    "\n",
    "video = yt.streams.get_highest_resolution()\n",
    "video.download(filename='my_video.mp4')\n",
    "\n",
    "os.system('ffmpeg -i my_video.mp4 -ss 0 -t 60 -c copy trimmed_video.mp4')"
   ]
  },
  {
   "cell_type": "code",
   "execution_count": 22,
   "id": "d0173b1b",
   "metadata": {},
   "outputs": [],
   "source": [
    "# extrract blue\n",
    "hsv_lower = np.array([100, 100, 100])\n",
    "hsv_upper = np.array([140, 255, 255])\n",
    "\n",
    "cap = cv2.VideoCapture('trimmed_video.mp4')\n",
    "\n",
    "if not cap.isOpened():\n",
    "    print(\"Error: Couldn't open the video\")\n",
    "    exit()\n",
    "while True:\n",
    "    ret, frame=cap.read()\n",
    "    \n",
    "    if not ret:\n",
    "        print(\"Error: Couldn't read video frame\")\n",
    "        exit()\n",
    "        break\n",
    "    \n",
    "    hsv_frame = cv2.cvtColor(frame, cv2.COLOR_BGR2HSV)\n",
    "    \n",
    "    extracted_frame = cv2.inRange(hsv_frame, hsv_lower, hsv_upper)\n",
    "    \n",
    "    masked_frame= cv2.bitwise_and(frame, frame, mask=extracted_frame)\n",
    "    \n",
    "    \n",
    "    cv2.imshow('Frame', masked_frame)\n",
    "    \n",
    "    key = cv2.waitKey(10)\n",
    "    if key == ord('q'):\n",
    "        break\n",
    "\n",
    "cap.release()\n",
    "\n",
    "cv2.destroyAllWindows()"
   ]
  },
  {
   "cell_type": "code",
   "execution_count": null,
   "id": "cbad33dd",
   "metadata": {},
   "outputs": [],
   "source": []
  },
  {
   "cell_type": "markdown",
   "id": "aa249f7d",
   "metadata": {},
   "source": []
  },
  {
   "cell_type": "code",
   "execution_count": null,
   "id": "27f33dd1",
   "metadata": {},
   "outputs": [],
   "source": []
  }
 ],
 "metadata": {
  "kernelspec": {
   "display_name": "Python 3 (ipykernel)",
   "language": "python",
   "name": "python3"
  },
  "language_info": {
   "codemirror_mode": {
    "name": "ipython",
    "version": 3
   },
   "file_extension": ".py",
   "mimetype": "text/x-python",
   "name": "python",
   "nbconvert_exporter": "python",
   "pygments_lexer": "ipython3",
   "version": "3.11.5"
  }
 },
 "nbformat": 4,
 "nbformat_minor": 5
}
